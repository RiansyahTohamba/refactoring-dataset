{
 "cells": [
  {
   "cell_type": "markdown",
   "metadata": {},
   "source": [
    "# TABLE 4.1  Sebaran tingkat kebahayaan\n",
    "pie chart nya di simpan di google spreadsheet \"Tesis - Data Eksperimen\"\n",
    "\n",
    "## filter lanza\n",
    "flow chart perlu menambahkan alir untuk filter kebahayaan berdasarkan kriteria lanza dan marinescu\n",
    "\n",
    "## kapan refactoring berhenti ?\n",
    "harm and problem class is exists ?\n",
    "ya : kembali refactoring\n",
    "no : stop refactoring\n",
    "\n"
   ]
  },
  {
   "cell_type": "code",
   "execution_count": 1,
   "metadata": {},
   "outputs": [
    {
     "name": "stdout",
     "output_type": "stream",
     "text": [
      "yes, detect_dcoh has created\n",
      "yes, detect_dcoh has created\n"
     ]
    }
   ],
   "source": [
    "import pandas as pd    \n",
    "import numpy as np\n",
    "import sqlite3 as sql\n",
    "\n",
    "class Harmfulness:\n",
    "    def __init__(self, db):\n",
    "        self.conn = sql.connect('sqlite-jcodeodor/database/'+db)\n",
    "\n",
    "    def dist(self): \n",
    "        return pd.read_sql('select name,type,value from detect_dcoh',self.conn)\n",
    "#     def get_table_warning()     \n",
    "    def print_excel(self): \n",
    "        dist = self.dist()\n",
    "        return dist\n",
    "    \n",
    "    def get_table(self):    \n",
    "        harm_sql = 'value = 10 '\n",
    "        problem_sql = 'value >= 7.75 and value < 10'\n",
    "        trouble_sql = 'value >= 5.5 and value < 7.75'\n",
    "        warn_sql = 'value >= 3.25 and value < 5.5'\n",
    "        bother_sql = 'value >= 1 and value < 3.25'\n",
    "        harm = self.get_total(harm_sql)\n",
    "        warn = self.get_total(warn_sql)\n",
    "        trouble = self.get_total(trouble_sql)\n",
    "        problem = self.get_total(problem_sql)\n",
    "        bother = self.get_total(bother_sql)\n",
    "        arr = np.array([ ['Harm', harm], ['Problem', problem], \n",
    "        ['Trouble', trouble], ['Warning', warn],\n",
    "                        ['Bother', bother]])\n",
    "        df2 = pd.DataFrame(arr, columns=['level', 'frekuensi'])\n",
    "        return df2\n",
    "\n",
    "    def get_total(self,level_sql):\n",
    "        base_sql = 'select count(*) as total from detect_dcoh where'     \t\n",
    "        return pd.read_sql(base_sql +' '+ level_sql,self.conn).total[0]\n",
    "    \n",
    "    def is_view_has_created(self):\n",
    "#         jika view belum dibuat, langsung error bahwa table detect_dcoh belum dibuat\n",
    "        if(self.get_total('value >= 7.75 and value < 10')):\n",
    "            print('yes, detect_dcoh has created')            \n",
    "    \n",
    "    #spesial case untuk      \n",
    "    def filter_for_test_function(self):\n",
    "        pass\n",
    "    \n",
    "tahap0 = Harmfulness('1-compiled.sqlite')\n",
    "tahap1 = Harmfulness('3-experiment2.sqlite')\n",
    "\n",
    "tahap0.is_view_has_created()\n",
    "tahap1.is_view_has_created()"
   ]
  },
  {
   "cell_type": "code",
   "execution_count": 11,
   "metadata": {},
   "outputs": [],
   "source": [
    "# kriteria smell dco menurut lanza hardly avoidable\n",
    "# berdasarkan kriteria lanza, beberapa kelas yang terdeteksi berbahaya tidak ikut direfactoring.\n",
    "# berikut daftar kelas nya.\n",
    "tahap1.to_excel(\"tahap-awal.xlsx\")\n",
    "# comp.dist().to_excel(\"tahap-awal.xlsx\")"
   ]
  },
  {
   "cell_type": "code",
   "execution_count": 14,
   "metadata": {},
   "outputs": [
    {
     "data": {
      "text/html": [
       "<div>\n",
       "<style scoped>\n",
       "    .dataframe tbody tr th:only-of-type {\n",
       "        vertical-align: middle;\n",
       "    }\n",
       "\n",
       "    .dataframe tbody tr th {\n",
       "        vertical-align: top;\n",
       "    }\n",
       "\n",
       "    .dataframe thead th {\n",
       "        text-align: right;\n",
       "    }\n",
       "</style>\n",
       "<table border=\"1\" class=\"dataframe\">\n",
       "  <thead>\n",
       "    <tr style=\"text-align: right;\">\n",
       "      <th></th>\n",
       "      <th>level</th>\n",
       "      <th>frekuensi</th>\n",
       "    </tr>\n",
       "  </thead>\n",
       "  <tbody>\n",
       "    <tr>\n",
       "      <th>0</th>\n",
       "      <td>Harm</td>\n",
       "      <td>6</td>\n",
       "    </tr>\n",
       "    <tr>\n",
       "      <th>1</th>\n",
       "      <td>Problem</td>\n",
       "      <td>25</td>\n",
       "    </tr>\n",
       "    <tr>\n",
       "      <th>2</th>\n",
       "      <td>Trouble</td>\n",
       "      <td>34</td>\n",
       "    </tr>\n",
       "    <tr>\n",
       "      <th>3</th>\n",
       "      <td>Warning</td>\n",
       "      <td>12</td>\n",
       "    </tr>\n",
       "    <tr>\n",
       "      <th>4</th>\n",
       "      <td>Bother</td>\n",
       "      <td>0</td>\n",
       "    </tr>\n",
       "  </tbody>\n",
       "</table>\n",
       "</div>"
      ],
      "text/plain": [
       "     level frekuensi\n",
       "0     Harm         6\n",
       "1  Problem        25\n",
       "2  Trouble        34\n",
       "3  Warning        12\n",
       "4   Bother         0"
      ]
     },
     "execution_count": 14,
     "metadata": {},
     "output_type": "execute_result"
    }
   ],
   "source": [
    "comp.get_table()"
   ]
  },
  {
   "cell_type": "code",
   "execution_count": 15,
   "metadata": {},
   "outputs": [
    {
     "data": {
      "text/html": [
       "<div>\n",
       "<style scoped>\n",
       "    .dataframe tbody tr th:only-of-type {\n",
       "        vertical-align: middle;\n",
       "    }\n",
       "\n",
       "    .dataframe tbody tr th {\n",
       "        vertical-align: top;\n",
       "    }\n",
       "\n",
       "    .dataframe thead th {\n",
       "        text-align: right;\n",
       "    }\n",
       "</style>\n",
       "<table border=\"1\" class=\"dataframe\">\n",
       "  <thead>\n",
       "    <tr style=\"text-align: right;\">\n",
       "      <th></th>\n",
       "      <th>level</th>\n",
       "      <th>frekuensi</th>\n",
       "    </tr>\n",
       "  </thead>\n",
       "  <tbody>\n",
       "    <tr>\n",
       "      <th>0</th>\n",
       "      <td>Harm</td>\n",
       "      <td>2</td>\n",
       "    </tr>\n",
       "    <tr>\n",
       "      <th>1</th>\n",
       "      <td>Problem</td>\n",
       "      <td>8</td>\n",
       "    </tr>\n",
       "    <tr>\n",
       "      <th>2</th>\n",
       "      <td>Trouble</td>\n",
       "      <td>29</td>\n",
       "    </tr>\n",
       "    <tr>\n",
       "      <th>3</th>\n",
       "      <td>Warning</td>\n",
       "      <td>9</td>\n",
       "    </tr>\n",
       "    <tr>\n",
       "      <th>4</th>\n",
       "      <td>Bother</td>\n",
       "      <td>0</td>\n",
       "    </tr>\n",
       "  </tbody>\n",
       "</table>\n",
       "</div>"
      ],
      "text/plain": [
       "     level frekuensi\n",
       "0     Harm         2\n",
       "1  Problem         8\n",
       "2  Trouble        29\n",
       "3  Warning         9\n",
       "4   Bother         0"
      ]
     },
     "execution_count": 15,
     "metadata": {},
     "output_type": "execute_result"
    }
   ],
   "source": [
    "exp2.get_table()"
   ]
  },
  {
   "cell_type": "code",
   "execution_count": 16,
   "metadata": {},
   "outputs": [],
   "source": [
    "exp2.dist()\n",
    "# exp2.dist().to_excel('warning.xlsx')"
   ]
  }
 ],
 "metadata": {
  "kernelspec": {
   "display_name": "Python 3",
   "language": "python",
   "name": "python3"
  },
  "language_info": {
   "codemirror_mode": {
    "name": "ipython",
    "version": 3
   },
   "file_extension": ".py",
   "mimetype": "text/x-python",
   "name": "python",
   "nbconvert_exporter": "python",
   "pygments_lexer": "ipython3",
   "version": "3.8.10"
  }
 },
 "nbformat": 4,
 "nbformat_minor": 5
}
