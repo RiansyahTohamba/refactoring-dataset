{
 "cells": [
  {
   "cell_type": "code",
   "execution_count": 1,
   "metadata": {},
   "outputs": [
    {
     "data": {
      "text/plain": [
       "Text(0.5, 0.98, 'Change of Dispersion Coupling Harmfulness')"
      ]
     },
     "execution_count": 1,
     "metadata": {},
     "output_type": "execute_result"
    },
    {
     "data": {
      "image/png": "[encoded data removed]",
      "text/plain": [
       "<Figure size 432x288 with 1 Axes>"
      ]
     },
     "metadata": {
      "needs_background": "light"
     },
     "output_type": "display_data"
    }
   ],
   "source": [
    "import numpy as np\n",
    "from scipy.stats import ttest_1samp, wilcoxon, ttest_ind, mannwhitneyu\n",
    "import random\n",
    "import pandas as pd\n",
    "# boxplot untuk hasil CINT \n",
    "# boxplot untuk hasil CDISP\n",
    "# boxplot untuk hasil harmfulness\n",
    "harm_pd = pd.read_csv(\"data/harmfulness.csv\",usecols=['before_refac','after_refac'])\n",
    "d = {\"before_refac\": \"Before Refactoring\", \"after_refac\": \"After Refactoring\"}\n",
    "df = pd.DataFrame({\"before_refac\": harm_pd.before_refac, \"after_refac\": harm_pd.after_refac}).rename(columns=d)\n",
    "boxplot = df.boxplot(column=['Sebelum Refactoring','Setelah Refactoring'])\n",
    "fig = np.asarray(boxplot).reshape(-1)[0].get_figure()\n",
    "fig.suptitle('Change of Dispersion Coupling Harmfulness')"
   ]
  },
  {
   "cell_type": "code",
   "execution_count": 2,
   "metadata": {},
   "outputs": [
    {
     "data": {
      "text/html": [
       "<div>\n",
       "<style scoped>\n",
       "    .dataframe tbody tr th:only-of-type {\n",
       "        vertical-align: middle;\n",
       "    }\n",
       "\n",
       "    .dataframe tbody tr th {\n",
       "        vertical-align: top;\n",
       "    }\n",
       "\n",
       "    .dataframe thead th {\n",
       "        text-align: right;\n",
       "    }\n",
       "</style>\n",
       "<table border=\"1\" class=\"dataframe\">\n",
       "  <thead>\n",
       "    <tr style=\"text-align: right;\">\n",
       "      <th></th>\n",
       "      <th>cint_before</th>\n",
       "      <th>cdisp_before</th>\n",
       "      <th>cint_after</th>\n",
       "      <th>cdisp_after</th>\n",
       "    </tr>\n",
       "  </thead>\n",
       "  <tbody>\n",
       "    <tr>\n",
       "      <th>0</th>\n",
       "      <td>37</td>\n",
       "      <td>0.9720</td>\n",
       "      <td>11</td>\n",
       "      <td>0.909</td>\n",
       "    </tr>\n",
       "    <tr>\n",
       "      <th>1</th>\n",
       "      <td>20</td>\n",
       "      <td>0.7000</td>\n",
       "      <td>1</td>\n",
       "      <td>1.000</td>\n",
       "    </tr>\n",
       "    <tr>\n",
       "      <th>2</th>\n",
       "      <td>9</td>\n",
       "      <td>0.7800</td>\n",
       "      <td>5</td>\n",
       "      <td>0.800</td>\n",
       "    </tr>\n",
       "    <tr>\n",
       "      <th>3</th>\n",
       "      <td>16</td>\n",
       "      <td>0.6875</td>\n",
       "      <td>2</td>\n",
       "      <td>1.000</td>\n",
       "    </tr>\n",
       "    <tr>\n",
       "      <th>4</th>\n",
       "      <td>10</td>\n",
       "      <td>0.8000</td>\n",
       "      <td>7</td>\n",
       "      <td>0.714</td>\n",
       "    </tr>\n",
       "    <tr>\n",
       "      <th>5</th>\n",
       "      <td>12</td>\n",
       "      <td>0.6660</td>\n",
       "      <td>4</td>\n",
       "      <td>0.750</td>\n",
       "    </tr>\n",
       "    <tr>\n",
       "      <th>6</th>\n",
       "      <td>8</td>\n",
       "      <td>0.8750</td>\n",
       "      <td>4</td>\n",
       "      <td>1.000</td>\n",
       "    </tr>\n",
       "    <tr>\n",
       "      <th>7</th>\n",
       "      <td>12</td>\n",
       "      <td>0.6660</td>\n",
       "      <td>0</td>\n",
       "      <td>0.000</td>\n",
       "    </tr>\n",
       "    <tr>\n",
       "      <th>8</th>\n",
       "      <td>9</td>\n",
       "      <td>0.7770</td>\n",
       "      <td>4</td>\n",
       "      <td>1.000</td>\n",
       "    </tr>\n",
       "    <tr>\n",
       "      <th>9</th>\n",
       "      <td>9</td>\n",
       "      <td>0.7770</td>\n",
       "      <td>3</td>\n",
       "      <td>1.000</td>\n",
       "    </tr>\n",
       "    <tr>\n",
       "      <th>10</th>\n",
       "      <td>11</td>\n",
       "      <td>0.8180</td>\n",
       "      <td>11</td>\n",
       "      <td>0.909</td>\n",
       "    </tr>\n",
       "    <tr>\n",
       "      <th>11</th>\n",
       "      <td>9</td>\n",
       "      <td>0.6660</td>\n",
       "      <td>5</td>\n",
       "      <td>0.600</td>\n",
       "    </tr>\n",
       "    <tr>\n",
       "      <th>12</th>\n",
       "      <td>21</td>\n",
       "      <td>0.7140</td>\n",
       "      <td>2</td>\n",
       "      <td>1.000</td>\n",
       "    </tr>\n",
       "    <tr>\n",
       "      <th>13</th>\n",
       "      <td>10</td>\n",
       "      <td>0.8000</td>\n",
       "      <td>1</td>\n",
       "      <td>1.000</td>\n",
       "    </tr>\n",
       "    <tr>\n",
       "      <th>14</th>\n",
       "      <td>11</td>\n",
       "      <td>0.8180</td>\n",
       "      <td>6</td>\n",
       "      <td>0.833</td>\n",
       "    </tr>\n",
       "    <tr>\n",
       "      <th>15</th>\n",
       "      <td>9</td>\n",
       "      <td>0.6600</td>\n",
       "      <td>7</td>\n",
       "      <td>0.714</td>\n",
       "    </tr>\n",
       "    <tr>\n",
       "      <th>16</th>\n",
       "      <td>16</td>\n",
       "      <td>0.8120</td>\n",
       "      <td>6</td>\n",
       "      <td>0.833</td>\n",
       "    </tr>\n",
       "    <tr>\n",
       "      <th>17</th>\n",
       "      <td>10</td>\n",
       "      <td>1.0000</td>\n",
       "      <td>8</td>\n",
       "      <td>1.000</td>\n",
       "    </tr>\n",
       "    <tr>\n",
       "      <th>18</th>\n",
       "      <td>9</td>\n",
       "      <td>0.8800</td>\n",
       "      <td>2</td>\n",
       "      <td>1.000</td>\n",
       "    </tr>\n",
       "    <tr>\n",
       "      <th>19</th>\n",
       "      <td>8</td>\n",
       "      <td>0.8750</td>\n",
       "      <td>4</td>\n",
       "      <td>1.000</td>\n",
       "    </tr>\n",
       "    <tr>\n",
       "      <th>20</th>\n",
       "      <td>11</td>\n",
       "      <td>0.8180</td>\n",
       "      <td>6</td>\n",
       "      <td>1.000</td>\n",
       "    </tr>\n",
       "    <tr>\n",
       "      <th>21</th>\n",
       "      <td>9</td>\n",
       "      <td>0.6660</td>\n",
       "      <td>1</td>\n",
       "      <td>1.000</td>\n",
       "    </tr>\n",
       "    <tr>\n",
       "      <th>22</th>\n",
       "      <td>8</td>\n",
       "      <td>1.0000</td>\n",
       "      <td>3</td>\n",
       "      <td>1.000</td>\n",
       "    </tr>\n",
       "    <tr>\n",
       "      <th>23</th>\n",
       "      <td>32</td>\n",
       "      <td>0.9680</td>\n",
       "      <td>6</td>\n",
       "      <td>1.000</td>\n",
       "    </tr>\n",
       "    <tr>\n",
       "      <th>24</th>\n",
       "      <td>11</td>\n",
       "      <td>0.8180</td>\n",
       "      <td>7</td>\n",
       "      <td>0.714</td>\n",
       "    </tr>\n",
       "    <tr>\n",
       "      <th>25</th>\n",
       "      <td>31</td>\n",
       "      <td>0.9670</td>\n",
       "      <td>7</td>\n",
       "      <td>0.857</td>\n",
       "    </tr>\n",
       "    <tr>\n",
       "      <th>26</th>\n",
       "      <td>8</td>\n",
       "      <td>0.7500</td>\n",
       "      <td>4</td>\n",
       "      <td>1.000</td>\n",
       "    </tr>\n",
       "    <tr>\n",
       "      <th>27</th>\n",
       "      <td>11</td>\n",
       "      <td>0.8180</td>\n",
       "      <td>2</td>\n",
       "      <td>1.000</td>\n",
       "    </tr>\n",
       "  </tbody>\n",
       "</table>\n",
       "</div>"
      ],
      "text/plain": [
       "    cint_before  cdisp_before  cint_after  cdisp_after\n",
       "0            37        0.9720          11        0.909\n",
       "1            20        0.7000           1        1.000\n",
       "2             9        0.7800           5        0.800\n",
       "3            16        0.6875           2        1.000\n",
       "4            10        0.8000           7        0.714\n",
       "5            12        0.6660           4        0.750\n",
       "6             8        0.8750           4        1.000\n",
       "7            12        0.6660           0        0.000\n",
       "8             9        0.7770           4        1.000\n",
       "9             9        0.7770           3        1.000\n",
       "10           11        0.8180          11        0.909\n",
       "11            9        0.6660           5        0.600\n",
       "12           21        0.7140           2        1.000\n",
       "13           10        0.8000           1        1.000\n",
       "14           11        0.8180           6        0.833\n",
       "15            9        0.6600           7        0.714\n",
       "16           16        0.8120           6        0.833\n",
       "17           10        1.0000           8        1.000\n",
       "18            9        0.8800           2        1.000\n",
       "19            8        0.8750           4        1.000\n",
       "20           11        0.8180           6        1.000\n",
       "21            9        0.6660           1        1.000\n",
       "22            8        1.0000           3        1.000\n",
       "23           32        0.9680           6        1.000\n",
       "24           11        0.8180           7        0.714\n",
       "25           31        0.9670           7        0.857\n",
       "26            8        0.7500           4        1.000\n",
       "27           11        0.8180           2        1.000"
      ]
     },
     "execution_count": 2,
     "metadata": {},
     "output_type": "execute_result"
    }
   ],
   "source": [
    "pand = pd.read_csv(\"data/cintcdisp.csv\",usecols=['cint_before','cint_after','cdisp_before','cdisp_after'])\n",
    "# nilai 1 CDISP itu bagus ya?\n",
    "pand"
   ]
  },
  {
   "cell_type": "code",
   "execution_count": null,
   "metadata": {},
   "outputs": [],
   "source": [
    "cdisp "
   ]
  },
  {
   "cell_type": "code",
   "execution_count": 3,
   "metadata": {},
   "outputs": [
    {
     "data": {
      "text/plain": [
       "Text(0.5, 0.98, 'Change of CDISP')"
      ]
     },
     "execution_count": 3,
     "metadata": {},
     "output_type": "execute_result"
    },
    {
     "data": {
      "image/png": "[encoded data removed]",
      "text/plain": [
       "<Figure size 432x288 with 1 Axes>"
      ]
     },
     "metadata": {
      "needs_background": "light"
     },
     "output_type": "display_data"
    }
   ],
   "source": [
    "pand = pd.read_csv(\"data/cintcdisp.csv\",usecols=['cdisp_before','cdisp_after'])\n",
    "d = {\"cdisp_before\": \"Before Refactoring\", \"cdisp_after\": \"After Refactoring\"}\n",
    "df = pd.DataFrame({\"cdisp_before\": pand.cdisp_before, \"cdisp_after\": pand.cdisp_after}).rename(columns=d)\n",
    "boxplot = df.boxplot(column=['Before Refactoring','After Refactoring'])\n",
    "fig = np.asarray(boxplot).reshape(-1)[0].get_figure()\n",
    "fig.suptitle('Change of CDISP')"
   ]
  },
  {
   "cell_type": "code",
   "execution_count": 10,
   "metadata": {},
   "outputs": [
    {
     "name": "stdout",
     "output_type": "stream",
     "text": [
      "Before Refactoring    10.5\n",
      "After Refactoring      4.0\n",
      "dtype: float64\n"
     ]
    },
    {
     "data": {
      "text/plain": [
       "Text(0.5, 0.98, 'Change of CINT')"
      ]
     },
     "execution_count": 10,
     "metadata": {},
     "output_type": "execute_result"
    },
    {
     "data": {
      "image/png": "[encoded data removed]",
      "text/plain": [
       "<Figure size 432x288 with 1 Axes>"
      ]
     },
     "metadata": {
      "needs_background": "light"
     },
     "output_type": "display_data"
    }
   ],
   "source": [
    "pand = pd.read_csv(\"data/cintcdisp.csv\",usecols=['cint_before','cint_after'])\n",
    "d = {\"cint_before\": \"Before Refactoring\", \"cint_after\": \"After Refactoring\"}\n",
    "df = pd.DataFrame({\"cint_before\": pand.cint_before, \"cint_after\": pand.cint_after}).rename(columns=d)\n",
    "boxplot = df.boxplot(column=['Before Refactoring','After Refactoring'])\n",
    "print(df.median())\n",
    "fig = np.asarray(boxplot).reshape(-1)[0].get_figure()\n",
    "fig.suptitle('Change of CINT')"
   ]
  },
  {
   "cell_type": "code",
   "execution_count": 5,
   "metadata": {},
   "outputs": [
    {
     "ename": "NameError",
     "evalue": "name 'sns' is not defined",
     "output_type": "error",
     "traceback": [
      "\u001b[0;31m---------------------------------------------------------------------------\u001b[0m",
      "\u001b[0;31mNameError\u001b[0m                                 Traceback (most recent call last)",
      "\u001b[0;32m<ipython-input-5-8e790a2adeda>\u001b[0m in \u001b[0;36m<module>\u001b[0;34m\u001b[0m\n\u001b[1;32m      1\u001b[0m \u001b[0;31m# distribution, positve skew\u001b[0m\u001b[0;34m\u001b[0m\u001b[0;34m\u001b[0m\u001b[0;34m\u001b[0m\u001b[0m\n\u001b[0;32m----> 2\u001b[0;31m \u001b[0msns\u001b[0m\u001b[0;34m.\u001b[0m\u001b[0mdistplot\u001b[0m\u001b[0;34m(\u001b[0m\u001b[0mharm_pd\u001b[0m\u001b[0;34m.\u001b[0m\u001b[0mbefore_refac\u001b[0m\u001b[0;34m,\u001b[0m \u001b[0mkde\u001b[0m\u001b[0;34m=\u001b[0m\u001b[0;32mFalse\u001b[0m\u001b[0;34m)\u001b[0m\u001b[0;34m\u001b[0m\u001b[0;34m\u001b[0m\u001b[0m\n\u001b[0m",
      "\u001b[0;31mNameError\u001b[0m: name 'sns' is not defined"
     ]
    }
   ],
   "source": [
    "# distribution, positve skew\n",
    "sns.distplot(harm_pd.before_refac, kde=False)"
   ]
  },
  {
   "cell_type": "code",
   "execution_count": null,
   "metadata": {},
   "outputs": [],
   "source": [
    "harm_pd"
   ]
  },
  {
   "cell_type": "code",
   "execution_count": null,
   "metadata": {},
   "outputs": [],
   "source": [
    "z_statistic, p_value = wilcoxon(harm_pd.after_refac - harm_pd.before_refac)\n",
    "print(\"p-value :\", np.around(p_value, decimals=7))\n",
    "# 3.6e-06\n",
    "# 0.36 * 10^-6"
   ]
  },
  {
   "cell_type": "code",
   "execution_count": null,
   "metadata": {
    "scrolled": true
   },
   "outputs": [],
   "source": [
    "# 60025 LOC, 940 Classes, and 8044 methods\n",
    "# 60312 LOC, 942 Classes and 8190 methods\n",
    "print(\"delta LOC \",(60312-60025))\n",
    "print(\"delta method \",(8190-8044))"
   ]
  },
  {
   "cell_type": "markdown",
   "metadata": {},
   "source": [
    "$p-value= 0.36 \\times 10^{-6}$ <br>\n",
    "\n",
    "$\\Delta LOC = 287 $ LOC <br>\n",
    "$\\Delta NOM = 146 $ method <br>\n",
    "$\\Delta NumberOfClass = 2 $ class <br>"
   ]
  },
  {
   "cell_type": "code",
   "execution_count": null,
   "metadata": {},
   "outputs": [],
   "source": [
    "import seaborn as sns\n",
    "# jika themes nya chesterfish\n",
    "# sns.set(color_codes=True)\n",
    "# custom_style = {'axes.labelcolor': 'white',\n",
    "#                 'xtick.color': 'white',\n",
    "#                 'ytick.color': 'white'}\n",
    "# sns.set_style(\"darkgrid\", rc=custom_style)\n",
    "# %matplotlib inline\n",
    "#Import the data\n",
    "harm_pd = pd.read_csv(\"data/harmfulness.csv\")\n",
    "sns.boxplot(harm_pd.before_refac,showmeans=True)\n",
    "print(harm_pd.before_refac.mean())"
   ]
  }
 ],
 "metadata": {
  "kernelspec": {
   "display_name": "Python 3",
   "language": "python",
   "name": "python3"
  },
  "language_info": {
   "codemirror_mode": {
    "name": "ipython",
    "version": 3
   },
   "file_extension": ".py",
   "mimetype": "text/x-python",
   "name": "python",
   "nbconvert_exporter": "python",
   "pygments_lexer": "ipython3",
   "version": "3.8.10"
  }
 },
 "nbformat": 4,
 "nbformat_minor": 4
}
