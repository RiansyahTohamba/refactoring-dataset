{
 "cells": [
  {
   "cell_type": "markdown",
   "metadata": {},
   "source": [
    " uji wilcoxon dibagi 2 \n",
    " 1. scipy.stats.wilcoxon : Wilcoxon Signed Rank Test nama lainnya Wilcoxon Match Pair Test, untuk mengukur signifikansi perbedaan antara 2 kelompok data berpasangan berskala ordinal atau interval tetapi berdistribusi tidak normal.\n",
    " contoh: untuk membandingkan cbo class in before vs after refactoring\n",
    " 2. scipy.stats.ranksums or scipy.stats.mannwhitneyu : Uji Wilcoxon Rank Sum Test(alias Mann Whitney U Test) merupakan uji beda nonparametris 2 kelompok data yang tidak berpasangan. atau disebut data bebas/independen. \n",
    "\n",
    " Penelitian sebelumnya menggunakan expert judgment untuk menilai apakah smell sudah terdeteksi dengan benar. Pada penelitian ini, akurasi deteksi smell ditentukan dengan keberhasilan rekomendasi refactoring untuk menghilangan smell tersebut. Keberhasilan skenario reactoring ditentukan dengan menurunkan nilai coupling CBO secara signifikan. Uji hipotesis wilcoxon-paired test akan dilakukan untuk menilai apakah refactoring berhasil menghilangkan smell secara signifikan.\n",
    "\n",
    " #### H0 : Skenario Refactoring InIn Smell tidak dapat menurunkan kopling antar-kelas.\n",
    " ### H1 : Skenario Refactoring InIn Smell dapat menurunkan kopling antar-kelas.\n",
    "\n"
   ]
  },
  {
   "cell_type": "code",
   "execution_count": 6,
   "metadata": {},
   "outputs": [
    {
     "name": "stdout",
     "output_type": "stream",
     "text": [
      "2.872340425531915 %\n"
     ]
    }
   ],
   "source": [
    "# classes that have high CBO value (Cari lagi !!)\n",
    "import pandas as pd\n",
    "high_cbo = pd.read_csv(\"../data/cbo_classes.csv\")\n",
    "total_cls = 940\n",
    "percent_sample = len(high_cbo)/total_cls * 100\n",
    "print(percent_sample,\"%\")"
   ]
  },
  {
   "cell_type": "code",
   "execution_count": 3,
   "metadata": {},
   "outputs": [
    {
     "ename": "NameError",
     "evalue": "name 'high_cbo' is not defined",
     "output_type": "error",
     "traceback": [
      "\u001b[1;31m---------------------------------------------------------------------------\u001b[0m",
      "\u001b[1;31mNameError\u001b[0m                                 Traceback (most recent call last)",
      "\u001b[1;32m<ipython-input-3-eabe378badbc>\u001b[0m in \u001b[0;36m<module>\u001b[1;34m\u001b[0m\n\u001b[0;32m      3\u001b[0m \u001b[1;32mimport\u001b[0m \u001b[0mrandom\u001b[0m\u001b[1;33m\u001b[0m\u001b[1;33m\u001b[0m\u001b[0m\n\u001b[0;32m      4\u001b[0m \u001b[1;33m\u001b[0m\u001b[0m\n\u001b[1;32m----> 5\u001b[1;33m \u001b[0mcls_before\u001b[0m \u001b[1;33m=\u001b[0m \u001b[0mnp\u001b[0m\u001b[1;33m.\u001b[0m\u001b[0marray\u001b[0m\u001b[1;33m(\u001b[0m\u001b[0mhigh_cbo\u001b[0m\u001b[1;33m[\u001b[0m\u001b[1;34m'before_refac'\u001b[0m\u001b[1;33m]\u001b[0m\u001b[1;33m)\u001b[0m\u001b[1;33m\u001b[0m\u001b[1;33m\u001b[0m\u001b[0m\n\u001b[0m\u001b[0;32m      6\u001b[0m \u001b[0mcls_after\u001b[0m \u001b[1;33m=\u001b[0m \u001b[0mnp\u001b[0m\u001b[1;33m.\u001b[0m\u001b[0marray\u001b[0m\u001b[1;33m(\u001b[0m\u001b[0mhigh_cbo\u001b[0m\u001b[1;33m[\u001b[0m\u001b[1;34m'after_refac'\u001b[0m\u001b[1;33m]\u001b[0m\u001b[1;33m)\u001b[0m\u001b[1;33m\u001b[0m\u001b[1;33m\u001b[0m\u001b[0m\n\u001b[0;32m      7\u001b[0m \u001b[0mz_statistic\u001b[0m\u001b[1;33m,\u001b[0m \u001b[0mp_value\u001b[0m \u001b[1;33m=\u001b[0m \u001b[0mwilcoxon\u001b[0m\u001b[1;33m(\u001b[0m\u001b[0mcls_after\u001b[0m \u001b[1;33m-\u001b[0m \u001b[0mcls_before\u001b[0m\u001b[1;33m)\u001b[0m\u001b[1;33m\u001b[0m\u001b[1;33m\u001b[0m\u001b[0m\n",
      "\u001b[1;31mNameError\u001b[0m: name 'high_cbo' is not defined"
     ]
    }
   ],
   "source": [
    "import numpy as np\n",
    "from scipy.stats import ttest_1samp, wilcoxon, ttest_ind, mannwhitneyu\n",
    "import random\n",
    "\n",
    "cls_before = np.array(high_cbo['before_refac'])\n",
    "cls_after = np.array(high_cbo['after_refac'])\n",
    "z_statistic, p_value = wilcoxon(cls_after - cls_before)\n",
    "print(\"p-value \", p_value)"
   ]
  },
  {
   "cell_type": "markdown",
   "metadata": {},
   "source": []
  }
 ],
 "metadata": {
  "kernelspec": {
   "display_name": "Python 3",
   "language": "python",
   "name": "python3"
  },
  "language_info": {
   "codemirror_mode": {
    "name": "ipython",
    "version": 3
   },
   "file_extension": ".py",
   "mimetype": "text/x-python",
   "name": "python",
   "nbconvert_exporter": "python",
   "pygments_lexer": "ipython3",
   "version": "3.9.2"
  }
 },
 "nbformat": 4,
 "nbformat_minor": 4
}
