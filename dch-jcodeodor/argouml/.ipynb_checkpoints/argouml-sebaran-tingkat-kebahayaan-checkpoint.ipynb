{
 "cells": [
  {
   "cell_type": "markdown",
   "id": "fuzzy-float",
   "metadata": {},
   "source": [
    "# argouml\n",
    "\n",
    "## TABLE 4.1  Sebaran tingkat kebahayaan\n",
    "pie chart nya di simpan di google spreadsheet <a href=\"#\">argouml - Data Eksperimen</a>\n",
    "\n",
    "### filter lanza\n",
    "flow chart perlu menambahkan alir untuk filter kebahayaan berdasarkan kriteria lanza dan marinescu\n",
    "\n",
    "### kapan refactoring berhenti ?\n",
    "harm and problem class is exists ?\n",
    "ya : kembali refactoring\n",
    "no : stop refactoring\n",
    "\n",
    "### Process sqlite from JCodeOdor\n",
    "Jangan lupa buat view di db sqlite nya, seperti:\n",
    "<ol>\n",
    "    <li>detect_dcoh</li>\n",
    "    \n",
    "</ol>\n",
    "\n",
    "<pre>CREATE VIEW detect_dcoh as\n",
    "select \n",
    "meth.id as method_id,\n",
    "type.name as type,meth.name,\n",
    "value\n",
    "from \n",
    "(select ms.id , ms.parent,ms.name,value \n",
    "\tfrom Measurables as ms left join Measures as me \n",
    "on ms.id = me.measurable\n",
    "where key ='DispersedCouplingHarmfulness' and value > 0\n",
    "order by value desc) as meth\n",
    "left join \n",
    "(select id ,name from Measurables  where type ='type' ) as type\n",
    "on meth.parent = type.id\n",
    "</pre>\n",
    "\n",
    "langkah selanjutnya adalah ?\n",
    "<ol>\n",
    "    <li> <b>init class-harmfulnes.xlsx </b>  mencatat file berbahaya di file ini</li>\n",
    "    <li> <b>init tahap-awal.xlsx </b>  mencatat file yang sudah mengalami perubahan di file ini </li>    \n",
    "</ol>"
   ]
  },
  {
   "cell_type": "code",
   "execution_count": 6,
   "id": "mature-daughter",
   "metadata": {},
   "outputs": [
    {
     "name": "stdout",
     "output_type": "stream",
     "text": [
      "yes, detect_dcoh has created\n",
      "yes, detect_dcoh has created\n"
     ]
    }
   ],
   "source": [
    "import pandas as pd    \n",
    "import numpy as np\n",
    "import sqlite3 as sql\n",
    "\n",
    "class Harmfulness:\n",
    "    def __init__(self, db):\n",
    "        self.conn = sql.connect('sqlite-jcodeodor/database/'+db)\n",
    "    \n",
    "    def specific_method(self,class_str):\n",
    "#         class_name = 'WizBreakCircularComp'\n",
    "#         classes = ['CrNoOutgoingTransitions','WizAssocComposite']            \n",
    "#         classes_str = ', '.join(classes)\n",
    "        \n",
    "        sql_meth = \"(select ms.id , ms.parent,ms.name,key,value from Measurables as ms left join Measures as me on ms.id = me.measurable order by value desc)\"\n",
    "        sql1 = \"select meth.id as method_id, type.name as type,meth.name, meth.key, value from \"+sql_meth+\" as meth left join \"        \n",
    "        sql2 = \"(select id ,name from Measurables  where type ='type' ) as type on meth.parent = type.id \"                \n",
    "        where_class = \"where type.name in ('\"+class_str+\"') \"               \n",
    "        sql = sql1+sql2+where_class\n",
    "        return pd.read_sql(sql,self.conn)      \n",
    "            \n",
    "    def dist(self): \n",
    "        return pd.read_sql('select name,type,value from detect_dcoh',self.conn)\n",
    "    \n",
    "    def print_excel(self): \n",
    "        dist = self.dist()\n",
    "        return dist\n",
    "    \n",
    "    def get_table(self):    \n",
    "        harm_sql = 'value = 10 '\n",
    "        problem_sql = 'value >= 7.75 and value < 10'\n",
    "        trouble_sql = 'value >= 5.5 and value < 7.75'\n",
    "        warn_sql = 'value >= 3.25 and value < 5.5'\n",
    "        bother_sql = 'value >= 1 and value < 3.25'\n",
    "        harm = self.get_total(harm_sql)\n",
    "        warn = self.get_total(warn_sql)\n",
    "        trouble = self.get_total(trouble_sql)\n",
    "        problem = self.get_total(problem_sql)\n",
    "        bother = self.get_total(bother_sql)\n",
    "        arr = np.array([ ['Harm', harm], ['Problem', problem], \n",
    "        ['Trouble', trouble], ['Warning', warn],\n",
    "                        ['Bother', bother]])\n",
    "        df2 = pd.DataFrame(arr, columns=['level', 'frekuensi'])\n",
    "        return df2\n",
    "\n",
    "    def get_total(self,level_sql):        \n",
    "        base_sql = 'select count(*) as total from detect_dcoh where'    \n",
    "        # disini try catch jika detect_dcoh belum dibuat\n",
    "        # OperationalError: no such table: detect_dcoh\n",
    "#         harus buat detect_dcoh dulu\n",
    "        return pd.read_sql(base_sql +' '+ level_sql, self.conn).total[0]\n",
    "    \n",
    "    def is_view_has_created(self):\n",
    "#         jika view belum dibuat, langsung error bahwa table detect_dcoh belum dibuat\n",
    "        if(self.conn):\n",
    "            print('yes, detect_dcoh has created')            \n",
    "        else:\n",
    "            print('gagal')\n",
    "    \n",
    "    def list_dch(self):\n",
    "        sql = \"select ms.id , ms.parent,ms.name,value from Measurables as ms left join Measures as me on ms.id = me.measurable where key ='DispersedCouplingHarmfulness' order by value desc\"\n",
    "        return pd.read_sql(sql,self.conn)\n",
    "    \n",
    "tahap0 = Harmfulness('1-tahap-0-argouml.sqlite')\n",
    "tahap0.is_view_has_created()\n",
    "# tahap0.list_dch()\n",
    "tahap1 = Harmfulness('2-tahap-1-argouml.sqlite')\n",
    "tahap1.is_view_has_created()"
   ]
  },
  {
   "cell_type": "code",
   "execution_count": 7,
   "id": "sustainable-clerk",
   "metadata": {},
   "outputs": [],
   "source": [
    "# kriteria smell dco menurut lanza hardly avoidable\n",
    "# berdasarkan kriteria lanza, beberapa kelas yang terdeteksi berbahaya tidak ikut direfactoring.\n",
    "# berikut daftar kelas nya.\n",
    "# tahap0.dist().to_excel(\"argouml-class-harmfulnes.xlsx\")\n",
    "# tahap1.dist().to_excel(\"argouml-class-harmfulnes-tahap-2.xlsx\")\n",
    "# class_str = 'SelectionReshape'\n",
    "# tahap0.specific_method(class_str)\n",
    "# tahap0.specific_method(class_str).to_excel(\"argouml-\"+class_str+\".xlsx\")\n",
    "# tahap0.list_by_fanout()\n",
    "# tahap0.list_by_fanout().to_excel(\"argouml-FANOUT.xlsx\")"
   ]
  },
  {
   "cell_type": "code",
   "execution_count": 7,
   "id": "australian-opportunity",
   "metadata": {},
   "outputs": [],
   "source": [
    "class CustomQuery(Harmfulness):    \n",
    "    def get_number_of_classes(self):                \n",
    "        measurable_key = 'NOCS'\n",
    "        sql_meth = \"(select ms.id , ms.parent, ms.name, key,value from Measurables as ms LEFT JOIN Measures as me on ms.id = me.measurable where key ='\"+measurable_key+\"' order by value desc)\"        \n",
    "        \n",
    "        sql1 = \"select meth.id as method_id,meth.name, meth.key, value from \"+sql_meth+\" as meth left join \"        \n",
    "        \n",
    "        sql2 = \"(select id ,name from Measurables  where type ='type' ) as type on meth.parent = type.id \"                                \n",
    "#         where_class = \"where type.name in ('SelectionManager') \"\n",
    "#         sql = sql1+sql2+where_class\n",
    "        sql = sql1+sql2\n",
    "        return pd.read_sql(sql,self.conn)\n",
    "    \n",
    "    def list_by_cint(self):                \n",
    "        measurable_key = 'CINT'\n",
    "        sql_meth = \"(select ms.id , ms.parent,ms.name,key,value from Measurables as ms LEFT JOIN Measures as me on ms.id = me.measurable where key ='\"+measurable_key+\"' order by value desc)\"        \n",
    "        sql1 = \"select meth.id as method_id, type.name as type,meth.name, meth.key, value from \"+sql_meth+\" as meth left join \"        \n",
    "        sql2 = \"(select id ,name from Measurables  where type ='type' ) as type on meth.parent = type.id \"                                \n",
    "#         where_class = \"where type.name in ('SelectionManager') \"\n",
    "#         sql = sql1+sql2+where_class\n",
    "        sql = sql1+sql2\n",
    "        return pd.read_sql(sql,self.conn)\n",
    "\n",
    "    def list_by_fanout(self):\n",
    "        measurable_key = 'FANOUT'\n",
    "        sql_meth = \"(select ms.id , ms.parent,ms.name,key,value from Measurables as ms LEFT JOIN Measures as me on ms.id = me.measurable where key ='\"+measurable_key+\"' order by value desc)\"        \n",
    "        sql1 = \"select meth.id as method_id, type.name as type,meth.name, meth.key, value from \"+sql_meth+\" as meth left join \"        \n",
    "        sql2 = \"(select id ,name from Measurables  where type ='type' ) as type on meth.parent = type.id \"                                        \n",
    "        sql = sql1+sql2\n",
    "        return pd.read_sql(sql,self.conn)\n",
    "    \n",
    "# cint0 = CustomQuery('1-tahap-0-argouml.sqlite')\n",
    "# cint0.list_by_cint().to_excel(\"argouml-CINT-setelah-modif.xlsx\")\n",
    "cquery0 = CustomQuery('1-tahap-0-argouml.sqlite')\n",
    "# cquery0.get_number_of_classes()\n",
    "# cquery0.get_number_of_classes().to_excel(\"argouml-NOCS.xlsx\")\n",
    "cquery0.get_number_of_classes().to_csv(\"argouml-NOCS.csv\")"
   ]
  },
  {
   "cell_type": "code",
   "execution_count": 6,
   "id": "central-small",
   "metadata": {},
   "outputs": [
    {
     "name": "stdout",
     "output_type": "stream",
     "text": [
      "branch tahap-0 i.e sesudah refactoring dilakukan \n"
     ]
    },
    {
     "data": {
      "text/html": [
       "<div>\n",
       "<style scoped>\n",
       "    .dataframe tbody tr th:only-of-type {\n",
       "        vertical-align: middle;\n",
       "    }\n",
       "\n",
       "    .dataframe tbody tr th {\n",
       "        vertical-align: top;\n",
       "    }\n",
       "\n",
       "    .dataframe thead th {\n",
       "        text-align: right;\n",
       "    }\n",
       "</style>\n",
       "<table border=\"1\" class=\"dataframe\">\n",
       "  <thead>\n",
       "    <tr style=\"text-align: right;\">\n",
       "      <th></th>\n",
       "      <th>level</th>\n",
       "      <th>frekuensi</th>\n",
       "    </tr>\n",
       "  </thead>\n",
       "  <tbody>\n",
       "    <tr>\n",
       "      <th>0</th>\n",
       "      <td>Harm</td>\n",
       "      <td>1</td>\n",
       "    </tr>\n",
       "    <tr>\n",
       "      <th>1</th>\n",
       "      <td>Problem</td>\n",
       "      <td>0</td>\n",
       "    </tr>\n",
       "    <tr>\n",
       "      <th>2</th>\n",
       "      <td>Trouble</td>\n",
       "      <td>1</td>\n",
       "    </tr>\n",
       "    <tr>\n",
       "      <th>3</th>\n",
       "      <td>Warning</td>\n",
       "      <td>11</td>\n",
       "    </tr>\n",
       "    <tr>\n",
       "      <th>4</th>\n",
       "      <td>Bother</td>\n",
       "      <td>0</td>\n",
       "    </tr>\n",
       "  </tbody>\n",
       "</table>\n",
       "</div>"
      ],
      "text/plain": [
       "     level frekuensi\n",
       "0     Harm         1\n",
       "1  Problem         0\n",
       "2  Trouble         1\n",
       "3  Warning        11\n",
       "4   Bother         0"
      ]
     },
     "execution_count": 6,
     "metadata": {},
     "output_type": "execute_result"
    }
   ],
   "source": [
    "print(\"branch tahap-0 i.e sesudah refactoring dilakukan \")\n",
    "tahap0.get_table()"
   ]
  },
  {
   "cell_type": "code",
   "execution_count": 7,
   "id": "demonstrated-vegetable",
   "metadata": {},
   "outputs": [
    {
     "name": "stdout",
     "output_type": "stream",
     "text": [
      "branch tahap-1 i.e sesudah refactoring dilakukan \n"
     ]
    },
    {
     "ename": "NameError",
     "evalue": "name 'tahap1' is not defined",
     "output_type": "error",
     "traceback": [
      "\u001b[1;31m---------------------------------------------------------------------------\u001b[0m",
      "\u001b[1;31mNameError\u001b[0m                                 Traceback (most recent call last)",
      "\u001b[1;32m<ipython-input-7-8fa2176e20c3>\u001b[0m in \u001b[0;36m<module>\u001b[1;34m\u001b[0m\n\u001b[0;32m      1\u001b[0m \u001b[0mprint\u001b[0m\u001b[1;33m(\u001b[0m\u001b[1;34m\"branch tahap-1 i.e sesudah refactoring dilakukan \"\u001b[0m\u001b[1;33m)\u001b[0m\u001b[1;33m\u001b[0m\u001b[1;33m\u001b[0m\u001b[0m\n\u001b[1;32m----> 2\u001b[1;33m \u001b[0mtahap1\u001b[0m\u001b[1;33m.\u001b[0m\u001b[0mget_table\u001b[0m\u001b[1;33m(\u001b[0m\u001b[1;33m)\u001b[0m\u001b[1;33m\u001b[0m\u001b[1;33m\u001b[0m\u001b[0m\n\u001b[0m",
      "\u001b[1;31mNameError\u001b[0m: name 'tahap1' is not defined"
     ]
    }
   ],
   "source": [
    "print(\"branch tahap-1 i.e sesudah refactoring dilakukan \")\n",
    "tahap1.get_table()"
   ]
  },
  {
   "cell_type": "code",
   "execution_count": null,
   "id": "basic-speed",
   "metadata": {},
   "outputs": [],
   "source": [
    "tahap1.dist()\n",
    "# tahap1.dist().to_excel('warning.xlsx')"
   ]
  }
 ],
 "metadata": {
  "kernelspec": {
   "display_name": "Python 3",
   "language": "python",
   "name": "python3"
  },
  "language_info": {
   "codemirror_mode": {
    "name": "ipython",
    "version": 3
   },
   "file_extension": ".py",
   "mimetype": "text/x-python",
   "name": "python",
   "nbconvert_exporter": "python",
   "pygments_lexer": "ipython3",
   "version": "3.9.2"
  }
 },
 "nbformat": 4,
 "nbformat_minor": 5
}
