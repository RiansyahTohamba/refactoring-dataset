{
 "cells": [
  {
   "cell_type": "code",
   "execution_count": 2,
   "metadata": {},
   "outputs": [
    {
     "name": "stdout",
     "output_type": "stream",
     "text": [
      "p-value : 1e-07\n"
     ]
    }
   ],
   "source": [
    "# wilcoxon 3 sample project: omegat, argouml, drjava\n",
    "import numpy as np\n",
    "from scipy.stats import ttest_1samp, wilcoxon, ttest_ind, mannwhitneyu\n",
    "import random\n",
    "import pandas as pd\n",
    "\n",
    "harm_pd = pd.read_csv(\"harmfulness.csv\",usecols=['before_refac','after_refac'])\n",
    "d = {\"before_refac\": \"Before Refactoring\", \"after_refac\": \"After Refactoring\"}\n",
    "df = pd.DataFrame({\"before_refac\": harm_pd.before_refac, \"after_refac\": harm_pd.after_refac}).rename(columns=d)\n",
    "\n",
    "z_statistic, p_value = wilcoxon(harm_pd.after_refac - harm_pd.before_refac)\n",
    "print(\"p-value :\", np.around(p_value, decimals=7))"
   ]
  }
 ],
 "metadata": {
  "kernelspec": {
   "display_name": "Python 3",
   "language": "python",
   "name": "python3"
  },
  "language_info": {
   "codemirror_mode": {
    "name": "ipython",
    "version": 3
   },
   "file_extension": ".py",
   "mimetype": "text/x-python",
   "name": "python",
   "nbconvert_exporter": "python",
   "pygments_lexer": "ipython3",
   "version": "3.8.10"
  }
 },
 "nbformat": 4,
 "nbformat_minor": 4
}
