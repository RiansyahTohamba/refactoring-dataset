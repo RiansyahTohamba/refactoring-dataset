{
 "cells": [
  {
   "cell_type": "markdown",
   "id": "intensive-boating",
   "metadata": {},
   "source": [
    "# Efek refactoring DCO terhadap MAINTAINABILITY INDEX\n",
    "menggunakan wilcoxon untuk menguji efek refactorign DCO terhadap MI"
   ]
  },
  {
   "cell_type": "code",
   "execution_count": 2,
   "id": "absent-program",
   "metadata": {
    "tags": []
   },
   "outputs": [
    {
     "name": "stdout",
     "output_type": "stream",
     "text": [
      "mi class, p-value : 0.1793337\n"
     ]
    }
   ],
   "source": [
    "import pandas as pd    \n",
    "import numpy as np\n",
    "import sqlite3 as sql\n",
    "from scipy.stats import wilcoxon\n",
    "\n",
    "micl_pandas = pd.read_csv(\"mi-class.csv\",usecols=['micl_sblm','micl_sdh'])\n",
    "z_statistic, p_value = wilcoxon(micl_pandas.micl_sdh-micl_pandas.micl_sblm)\n",
    "print(\"mi class, p-value :\", np.around(p_value, decimals=7))"
   ]
  },
  {
   "cell_type": "code",
   "execution_count": 9,
   "id": "residential-weapon",
   "metadata": {},
   "outputs": [
    {
     "name": "stdout",
     "output_type": "stream",
     "text": [
      "mi fungsi, p-value : 2e-07\n"
     ]
    }
   ],
   "source": [
    "mifun_pd = pd.read_csv(\"mi-function.csv\",usecols=['mifun_sblm','mifun_sdh'])\n",
    "z_statistic, p_value_fung = wilcoxon(mifun_pd.mifun_sdh-mifun_pd.mifun_sblm)\n",
    "print(\"mi fungsi, p-value :\", np.around(p_value_fung, decimals=7))\n",
    "\n",
    "# pvalue nya 2x10^-7"
   ]
  },
  {
   "cell_type": "code",
   "execution_count": 5,
   "id": "arbitrary-newport",
   "metadata": {},
   "outputs": [
    {
     "data": {
      "text/plain": [
       "Text(0.5, 0.98, 'Perubahan MI tingkat Kelas')"
      ]
     },
     "execution_count": 5,
     "metadata": {},
     "output_type": "execute_result"
    },
    {
     "data": {
      "image/png": "[encoded data removed]",
      "text/plain": [
       "<Figure size 432x288 with 1 Axes>"
      ]
     },
     "metadata": {
      "needs_background": "light"
     },
     "output_type": "display_data"
    }
   ],
   "source": [
    "d = {\"micl_sblm\": \"Sebelum Refactoring\", \"micl_sdh\": \"Sesudah Refactoring\"}\n",
    "df = pd.DataFrame({\"micl_sblm\": micl_pandas.micl_sblm, \"micl_sdh\": micl_pandas.micl_sdh}).rename(columns=d)\n",
    "boxplot = df.boxplot(column=['Sebelum Refactoring','Sesudah Refactoring'])\n",
    "fig = np.asarray(boxplot).reshape(-1)[0].get_figure()\n",
    "fig.suptitle('Perubahan MI tingkat Kelas')"
   ]
  },
  {
   "cell_type": "code",
   "execution_count": 10,
   "id": "through-translator",
   "metadata": {},
   "outputs": [
    {
     "data": {
      "text/plain": [
       "Text(0.5, 0.98, 'Perubahan MI tingkat Fungsi')"
      ]
     },
     "execution_count": 10,
     "metadata": {},
     "output_type": "execute_result"
    },
    {
     "data": {
      "image/png": "[encoded data removed]",
      "text/plain": [
       "<Figure size 432x288 with 1 Axes>"
      ]
     },
     "metadata": {
      "needs_background": "light"
     },
     "output_type": "display_data"
    }
   ],
   "source": [
    "d = {\"mifun_sblm\": \"Sebelum Refactoring\", \"mifun_sdh\": \"Sesudah Refactoring\"}\n",
    "df = pd.DataFrame({\"mifun_sblm\": mifun_pd.mifun_sblm, \"mifun_sdh\": mifun_pd.mifun_sdh}).rename(columns=d)\n",
    "boxplot = df.boxplot(column=['Sebelum Refactoring','Sesudah Refactoring'])\n",
    "fig = np.asarray(boxplot).reshape(-1)[0].get_figure()\n",
    "fig.suptitle('Perubahan MI tingkat Fungsi')"
   ]
  },
  {
   "cell_type": "code",
   "execution_count": 55,
   "id": "built-bulletin",
   "metadata": {},
   "outputs": [
    {
     "data": {
      "text/html": [
       "<div>\n",
       "<style scoped>\n",
       "    .dataframe tbody tr th:only-of-type {\n",
       "        vertical-align: middle;\n",
       "    }\n",
       "\n",
       "    .dataframe tbody tr th {\n",
       "        vertical-align: top;\n",
       "    }\n",
       "\n",
       "    .dataframe thead th {\n",
       "        text-align: right;\n",
       "    }\n",
       "</style>\n",
       "<table border=\"1\" class=\"dataframe\">\n",
       "  <thead>\n",
       "    <tr style=\"text-align: right;\">\n",
       "      <th></th>\n",
       "      <th>micl_sblm</th>\n",
       "      <th>micl_sdh</th>\n",
       "    </tr>\n",
       "  </thead>\n",
       "  <tbody>\n",
       "    <tr>\n",
       "      <th>0</th>\n",
       "      <td>89.62</td>\n",
       "      <td>85.01</td>\n",
       "    </tr>\n",
       "    <tr>\n",
       "      <th>1</th>\n",
       "      <td>79.60</td>\n",
       "      <td>78.93</td>\n",
       "    </tr>\n",
       "    <tr>\n",
       "      <th>2</th>\n",
       "      <td>71.70</td>\n",
       "      <td>70.29</td>\n",
       "    </tr>\n",
       "    <tr>\n",
       "      <th>3</th>\n",
       "      <td>80.77</td>\n",
       "      <td>77.15</td>\n",
       "    </tr>\n",
       "    <tr>\n",
       "      <th>4</th>\n",
       "      <td>62.20</td>\n",
       "      <td>61.17</td>\n",
       "    </tr>\n",
       "    <tr>\n",
       "      <th>5</th>\n",
       "      <td>84.96</td>\n",
       "      <td>84.00</td>\n",
       "    </tr>\n",
       "    <tr>\n",
       "      <th>6</th>\n",
       "      <td>61.84</td>\n",
       "      <td>62.45</td>\n",
       "    </tr>\n",
       "    <tr>\n",
       "      <th>7</th>\n",
       "      <td>40.50</td>\n",
       "      <td>41.26</td>\n",
       "    </tr>\n",
       "    <tr>\n",
       "      <th>8</th>\n",
       "      <td>57.93</td>\n",
       "      <td>58.74</td>\n",
       "    </tr>\n",
       "    <tr>\n",
       "      <th>9</th>\n",
       "      <td>74.27</td>\n",
       "      <td>75.36</td>\n",
       "    </tr>\n",
       "    <tr>\n",
       "      <th>10</th>\n",
       "      <td>68.33</td>\n",
       "      <td>68.95</td>\n",
       "    </tr>\n",
       "    <tr>\n",
       "      <th>11</th>\n",
       "      <td>48.52</td>\n",
       "      <td>51.13</td>\n",
       "    </tr>\n",
       "    <tr>\n",
       "      <th>12</th>\n",
       "      <td>57.63</td>\n",
       "      <td>58.09</td>\n",
       "    </tr>\n",
       "    <tr>\n",
       "      <th>13</th>\n",
       "      <td>67.69</td>\n",
       "      <td>69.00</td>\n",
       "    </tr>\n",
       "    <tr>\n",
       "      <th>14</th>\n",
       "      <td>62.75</td>\n",
       "      <td>64.01</td>\n",
       "    </tr>\n",
       "    <tr>\n",
       "      <th>15</th>\n",
       "      <td>45.07</td>\n",
       "      <td>45.13</td>\n",
       "    </tr>\n",
       "    <tr>\n",
       "      <th>16</th>\n",
       "      <td>52.50</td>\n",
       "      <td>53.61</td>\n",
       "    </tr>\n",
       "    <tr>\n",
       "      <th>17</th>\n",
       "      <td>50.42</td>\n",
       "      <td>55.01</td>\n",
       "    </tr>\n",
       "    <tr>\n",
       "      <th>18</th>\n",
       "      <td>49.42</td>\n",
       "      <td>50.60</td>\n",
       "    </tr>\n",
       "    <tr>\n",
       "      <th>19</th>\n",
       "      <td>53.99</td>\n",
       "      <td>54.50</td>\n",
       "    </tr>\n",
       "    <tr>\n",
       "      <th>20</th>\n",
       "      <td>73.80</td>\n",
       "      <td>74.36</td>\n",
       "    </tr>\n",
       "    <tr>\n",
       "      <th>21</th>\n",
       "      <td>54.95</td>\n",
       "      <td>55.10</td>\n",
       "    </tr>\n",
       "    <tr>\n",
       "      <th>22</th>\n",
       "      <td>79.07</td>\n",
       "      <td>80.66</td>\n",
       "    </tr>\n",
       "  </tbody>\n",
       "</table>\n",
       "</div>"
      ],
      "text/plain": [
       "    micl_sblm  micl_sdh\n",
       "0       89.62     85.01\n",
       "1       79.60     78.93\n",
       "2       71.70     70.29\n",
       "3       80.77     77.15\n",
       "4       62.20     61.17\n",
       "5       84.96     84.00\n",
       "6       61.84     62.45\n",
       "7       40.50     41.26\n",
       "8       57.93     58.74\n",
       "9       74.27     75.36\n",
       "10      68.33     68.95\n",
       "11      48.52     51.13\n",
       "12      57.63     58.09\n",
       "13      67.69     69.00\n",
       "14      62.75     64.01\n",
       "15      45.07     45.13\n",
       "16      52.50     53.61\n",
       "17      50.42     55.01\n",
       "18      49.42     50.60\n",
       "19      53.99     54.50\n",
       "20      73.80     74.36\n",
       "21      54.95     55.10\n",
       "22      79.07     80.66"
      ]
     },
     "execution_count": 55,
     "metadata": {},
     "output_type": "execute_result"
    }
   ],
   "source": [
    "micl_pandas"
   ]
  },
  {
   "cell_type": "raw",
   "id": "checked-housing",
   "metadata": {},
   "source": [
    "mifun_pd"
   ]
  }
 ],
 "metadata": {
  "kernelspec": {
   "display_name": "Python 3",
   "language": "python",
   "name": "python3"
  },
  "language_info": {
   "codemirror_mode": {
    "name": "ipython",
    "version": 3
   },
   "file_extension": ".py",
   "mimetype": "text/x-python",
   "name": "python",
   "nbconvert_exporter": "python",
   "pygments_lexer": "ipython3",
   "version": "3.9.2"
  }
 },
 "nbformat": 4,
 "nbformat_minor": 5
}
